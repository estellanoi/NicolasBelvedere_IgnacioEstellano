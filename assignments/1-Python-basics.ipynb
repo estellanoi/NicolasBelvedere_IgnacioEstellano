{
  "cells": [
    {
      "cell_type": "markdown",
      "metadata": {
        "id": "view-in-github",
        "colab_type": "text"
      },
      "source": [
        "<a href=\"https://colab.research.google.com/github/estellanoi/eccdum_assignments/blob/main/assignments/1-Python-basics.ipynb\" target=\"_parent\"><img src=\"https://colab.research.google.com/assets/colab-badge.svg\" alt=\"Open In Colab\"/></a>"
      ]
    },
    {
      "cell_type": "markdown",
      "source": [
        "##Nicolas Belvedere - Ignacio Estellano"
      ],
      "metadata": {
        "id": "d2bcXmcV4YjC"
      }
    },
    {
      "cell_type": "markdown",
      "metadata": {
        "id": "2x4HxMW94Ldd"
      },
      "source": [
        "# Notebook Overview\n",
        "\n",
        "In this notebook, you’ll explore essential Python concepts such as numbers, strings, lists, loops, and functions to strengthen your familiarity with them. Each exercise includes a description of the task, followed by a space where you will implement a solution.\n",
        "\n",
        "Once you’ve completed your implementation, the function will be automatically tested to ensure it works correctly. If successful, additional examples will be executed to further validate your solution."
      ]
    },
    {
      "cell_type": "markdown",
      "metadata": {
        "id": "5L4SizvW4Ldg"
      },
      "source": [
        "## \t1.\tRemove Vowels Function:\n",
        "Implement a function that removes all vowels from a given string.\n",
        "Example: \"hello\" → \"hll\""
      ]
    },
    {
      "cell_type": "code",
      "execution_count": 2,
      "metadata": {
        "vscode": {
          "languageId": "plaintext"
        },
        "id": "M8shp7324Ldi"
      },
      "outputs": [],
      "source": [
        "def remove_vowels(text: str) -> str:\n",
        "    \"\"\"\n",
        "    This function removes all vowels from the given string.\n",
        "    Example: \"hello\" -> \"hll\"\n",
        "    \"\"\"\n",
        "    consonant = \"\"\n",
        "    for letra in text:\n",
        "        if letra not in 'aáeéiíoóuúAÁEÉIÍOÓUÚ':\n",
        "            consonant += letra\n",
        "    return consonant"
      ]
    },
    {
      "cell_type": "code",
      "execution_count": 3,
      "metadata": {
        "vscode": {
          "languageId": "plaintext"
        },
        "id": "GrgAF-l14Ldj",
        "outputId": "c40a4121-4fe0-428b-acd2-217d881c350a",
        "colab": {
          "base_uri": "https://localhost:8080/"
        }
      },
      "outputs": [
        {
          "output_type": "stream",
          "name": "stdout",
          "text": [
            "st f n bn d\n"
          ]
        }
      ],
      "source": [
        "\n",
        "assert remove_vowels(\"hola\") == \"hl\"\n",
        "answer_1  = remove_vowels(\"Este fue un buen día\")\n",
        "print(answer_1)"
      ]
    },
    {
      "cell_type": "markdown",
      "metadata": {
        "id": "Ue2bM7iE4Ldk"
      },
      "source": [
        "# 2.\tSum List of Floats Function:\n",
        "Write a function that computes the element-wise sum of two lists of floats.\n",
        "Example: [1, 2, 3] + [4, 5, -2.3] → [5, 7, 0.7]"
      ]
    },
    {
      "cell_type": "code",
      "execution_count": 6,
      "metadata": {
        "vscode": {
          "languageId": "plaintext"
        },
        "id": "WHCcd_hT4Ldl"
      },
      "outputs": [],
      "source": [
        "import numpy as np\n",
        "def sum_list_of_floats(a: list, b:list) -> list:\n",
        "    \"\"\"\n",
        "    Returns the coordinate wise sum of a and b.\n",
        "    \"\"\"\n",
        "\n",
        "    if len(a) != len(b):\n",
        "        raise ValueError(\"Both lists must have the same length.\")\n",
        "\n",
        "    return [x + y for x, y in zip(a, b)]\n"
      ]
    },
    {
      "cell_type": "code",
      "execution_count": 7,
      "metadata": {
        "vscode": {
          "languageId": "plaintext"
        },
        "id": "f-vLvGvG4Ldl",
        "outputId": "f7f1b21a-72ae-41ef-a15b-c5b798ec058c",
        "colab": {
          "base_uri": "https://localhost:8080/"
        }
      },
      "outputs": [
        {
          "output_type": "stream",
          "name": "stdout",
          "text": [
            "[1, -1]\n"
          ]
        }
      ],
      "source": [
        "assert np.allclose(\n",
        "    sum_list_of_floats(\n",
        "        [1, 2, 3], [4, 5, -2.3]),\n",
        "    [5, 7, 0.7]\n",
        ")\n",
        "answer_2 = sum_list_of_floats([0, 0], [1, -1])\n",
        "print(answer_2)"
      ]
    }
  ],
  "metadata": {
    "language_info": {
      "name": "python"
    },
    "colab": {
      "provenance": [],
      "include_colab_link": true
    },
    "kernelspec": {
      "name": "python3",
      "display_name": "Python 3"
    }
  },
  "nbformat": 4,
  "nbformat_minor": 0
}